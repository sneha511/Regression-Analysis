{
 "cells": [
  {
   "cell_type": "code",
   "execution_count": 1,
   "metadata": {},
   "outputs": [],
   "source": [
    "import numpy as np\n",
    "import pandas as pd\n",
    "import matplotlib .pyplot as plt\n",
    "from sklearn.linear_model import LinearRegression\n",
    "from sklearn.metrics import mean_squared_error\n"
   ]
  },
  {
   "cell_type": "code",
   "execution_count": 2,
   "metadata": {},
   "outputs": [
    {
     "name": "stdout",
     "output_type": "stream",
     "text": [
      "(40, 35)\n",
      "        Start Date         End Date       Value Unit  Status    SY  SM  SD  \\\n",
      "0  2013-11-30 0:00  2014-01-04 0:00  145440.151  kWh  Actual  2013  11  30   \n",
      "1  2014-01-04 0:00  2014-02-04 0:00  151679.548  kWh  Actual  2014   1   4   \n",
      "2  2014-02-04 0:00  2014-03-04 0:00  152639.962  kWh  Actual  2014   2   4   \n",
      "3  2014-03-04 0:00  2014-04-02 0:00  146399.623  kWh  Actual  2014   3   4   \n",
      "4  2014-04-02 0:00  2014-05-02 0:00  121919.887  kWh  Actual  2014   4   2   \n",
      "5  2014-05-02 0:00  2014-06-03 0:00  102240.339  kWh  Actual  2014   5   2   \n",
      "6  2014-06-03 0:00  2014-07-03 0:00  129600.377  kWh  Actual  2014   6   3   \n",
      "7  2014-07-03 0:00  2014-08-01 0:00  100800.189  kWh  Actual  2014   7   3   \n",
      "8  2014-08-01 0:00  2014-09-03 0:00   86399.623  kWh  Actual  2014   8   1   \n",
      "9  2014-09-03 0:00  2014-10-02 0:00  116639.962  kWh  Actual  2014   9   3   \n",
      "\n",
      "     EY  EM     ...         CDD      DD    wind  humidity  radiation  \\\n",
      "0  2014   1     ...        0.00  856.44  104.57   2953.18      35.36   \n",
      "1  2014   2     ...        0.00  846.17  110.36   2620.48      47.12   \n",
      "2  2014   3     ...        0.00  814.32   90.67   2280.23      70.64   \n",
      "3  2014   4     ...        0.00  669.03   93.01   2291.46      92.13   \n",
      "4  2014   5     ...        0.00  404.01   88.27   2304.56    -877.31   \n",
      "5  2014   6     ...        0.74  176.93   64.86   2394.56     175.76   \n",
      "6  2014   7     ...       49.93   74.92   58.34   2066.89     174.37   \n",
      "7  2014   8     ...       49.17   57.43   61.35   1909.44     167.62   \n",
      "8  2014   9     ...       74.53   86.73   64.30   2281.75     164.66   \n",
      "9  2014  10     ...       16.26   89.79   60.12   2081.49     112.30   \n",
      "\n",
      "  KW-BaseLoad Cooling Load  Heating Load  Active Load Passive Load  \n",
      "0   76320.151            0  49039.000820  27281.15018        69120  \n",
      "1   82559.548            0  55278.397820  27281.15018        69120  \n",
      "2   83519.962            0  56238.811820  27281.15018        69120  \n",
      "3   77279.623            0  49998.472820  27281.15018        69120  \n",
      "4   52799.887            0  25518.736820  27281.15018        69120  \n",
      "5   33120.339            0   5839.188820  27281.15018        69120  \n",
      "6   60480.377            0  33199.226820  27281.15018        69120  \n",
      "7   31680.189            0   4399.038820  27281.15018        69120  \n",
      "8   17279.623            0    227.599111  17052.02389        69120  \n",
      "9   47519.962            0  20238.811820  27281.15018        69120  \n",
      "\n",
      "[10 rows x 35 columns]\n"
     ]
    }
   ],
   "source": [
    "data= pd.read_csv(\"energydata.csv\")\n",
    "print(data.shape)\n",
    "print (data.head(10))"
   ]
  },
  {
   "cell_type": "code",
   "execution_count": 3,
   "metadata": {},
   "outputs": [],
   "source": [
    "X1=data['HDD'].values\n",
    "X2=data['CDD'].values\n",
    "X3=data['DD'].values\n",
    "X4=data['wind'].values\n",
    "X5=data['humidity'].values\n",
    "X6=data['radiation'].values\n",
    "Y=data['Heating Load'].values"
   ]
  },
  {
   "cell_type": "code",
   "execution_count": 4,
   "metadata": {},
   "outputs": [],
   "source": [
    "m1=len(X1)\n",
    "X1=X1.reshape(m1,1)\n",
    "\n",
    "m2=len(X2)\n",
    "X2=X2.reshape(m2,1)\n",
    "\n",
    "m3=len(X3)\n",
    "X3=X3.reshape(m3,1)\n",
    "\n",
    "m4=len(X4)\n",
    "X4=X4.reshape(m4,1)\n",
    "\n",
    "m5=len(X5)\n",
    "X5=X5.reshape(m5,1)\n",
    "\n",
    "m6=len(X6)\n",
    "X6=X6.reshape(m6,1)"
   ]
  },
  {
   "cell_type": "code",
   "execution_count": 5,
   "metadata": {},
   "outputs": [],
   "source": [
    "#Creating model\n",
    "reg1=LinearRegression()\n",
    "reg1=reg1.fit(X1,Y)\n",
    "\n",
    "#Creating model\n",
    "reg2=LinearRegression()\n",
    "reg2=reg2.fit(X2,Y)\n",
    "\n",
    "#Creating model\n",
    "reg3=LinearRegression()\n",
    "reg3=reg3.fit(X3,Y)\n",
    "\n",
    "#Creating model\n",
    "reg4=LinearRegression()\n",
    "reg4=reg4.fit(X4,Y)\n",
    "\n",
    "#Creating model\n",
    "reg5=LinearRegression()\n",
    "reg5=reg5.fit(X5,Y)\n",
    "\n",
    "#Creating model\n",
    "reg6=LinearRegression()\n",
    "reg6=reg6.fit(X6,Y)"
   ]
  },
  {
   "cell_type": "code",
   "execution_count": 6,
   "metadata": {},
   "outputs": [],
   "source": [
    "#Y prediction\n",
    "y_pred1=reg1.predict(X1)\n",
    "y_pred2=reg2.predict(X2)\n",
    "y_pred3=reg3.predict(X3)\n",
    "y_pred4=reg4.predict(X4)\n",
    "y_pred5=reg5.predict(X5)\n",
    "y_pred6=reg6.predict(X6)\n"
   ]
  },
  {
   "cell_type": "code",
   "execution_count": 7,
   "metadata": {},
   "outputs": [
    {
     "name": "stdout",
     "output_type": "stream",
     "text": [
      "For HDD:- MSE = 116540075.05560955 RMSE= 10795.372853941153 R squared_Score 0.6521630755036623\n",
      "For CDD:- MSE = 259152842.9123785 RMSE= 16098.2248373036 R squared_Score 0.22650703794286509\n",
      "For DD:- MSE = 116235217.23659389 RMSE= 10781.24377039096 R squared_Score 0.6530729840147428\n",
      "For wind:- MSE = 164327374.3668911 RMSE= 12819.023924109475 R squared_Score 0.5095324206453185\n",
      "For humidity:- MSE = 239883164.74643153 RMSE= 15488.162084199388 R squared_Score 0.28402120709093603\n",
      "For radiation:- MSE = 333162598.6026159 RMSE= 18252.7422214476 R squared_Score 0.005610270974648057\n"
     ]
    }
   ],
   "source": [
    "#Calculating RMSE and R2 Score\n",
    "mse1=mean_squared_error(Y, y_pred1)\n",
    "rmse1=np.sqrt(mse1)\n",
    "r2_score1=reg1.score(X1,Y)\n",
    "print('For HDD:- MSE =',mse1, 'RMSE=', rmse1, 'R squared_Score', r2_score1)\n",
    "\n",
    "mse2=mean_squared_error(Y, y_pred2)\n",
    "rmse2=np.sqrt(mse2)\n",
    "r2_score2=reg2.score(X2,Y)\n",
    "print('For CDD:- MSE =',mse2, 'RMSE=', rmse2, 'R squared_Score', r2_score2)\n",
    "\n",
    "mse3=mean_squared_error(Y, y_pred3)\n",
    "rmse3=np.sqrt(mse3)\n",
    "r2_score3=reg3.score(X3,Y)\n",
    "print('For DD:- MSE =',mse3, 'RMSE=', rmse3, 'R squared_Score', r2_score3)\n",
    "\n",
    "mse4=mean_squared_error(Y, y_pred4)\n",
    "rmse4=np.sqrt(mse4)\n",
    "r2_score4=reg4.score(X4,Y)\n",
    "print('For wind:- MSE =',mse4, 'RMSE=', rmse4, 'R squared_Score', r2_score4)\n",
    "\n",
    "mse5=mean_squared_error(Y, y_pred5)\n",
    "rmse5=np.sqrt(mse5)\n",
    "r2_score5=reg5.score(X5,Y)\n",
    "print('For humidity:- MSE =',mse5, 'RMSE=', rmse5, 'R squared_Score', r2_score5)\n",
    "\n",
    "mse6=mean_squared_error(Y, y_pred6)\n",
    "rmse6=np.sqrt(mse6)\n",
    "r2_score6=reg6.score(X6,Y)\n",
    "print('For radiation:- MSE =',mse6, 'RMSE=', rmse6, 'R squared_Score', r2_score6)\n"
   ]
  },
  {
   "cell_type": "code",
   "execution_count": 8,
   "metadata": {},
   "outputs": [],
   "source": [
    "import matplotlib\n",
    "from matplotlib.pyplot import*\n",
    "\n",
    "#plot (X1, Y, 'o')\n",
    "#plt.show()"
   ]
  },
  {
   "cell_type": "code",
   "execution_count": 9,
   "metadata": {},
   "outputs": [
    {
     "data": {
      "image/png": "[encoded data removed]",
      "text/plain": [
       "<Figure size 432x288 with 1 Axes>"
      ]
     },
     "metadata": {},
     "output_type": "display_data"
    }
   ],
   "source": [
    "plt.plot(X1, y_pred1, label='Regression Line')\n",
    "plt.scatter(X1,Y, label='Scatter Plot')\n",
    "plt.xlabel('HDD')\n",
    "plt.ylabel('Heating Load')\n",
    "plt.legend()\n",
    "plt.show()\n"
   ]
  },
  {
   "cell_type": "code",
   "execution_count": 10,
   "metadata": {},
   "outputs": [
    {
     "data": {
      "image/png": "[encoded data removed]",
      "text/plain": [
       "<Figure size 432x288 with 1 Axes>"
      ]
     },
     "metadata": {},
     "output_type": "display_data"
    }
   ],
   "source": [
    "plt.plot(X2, y_pred2, label='Regression Line')\n",
    "plt.scatter(X2,Y, label='Scatter Plot')\n",
    "plt.xlabel('CDD')\n",
    "plt.ylabel('Heating Load')\n",
    "plt.legend()\n",
    "plt.show()"
   ]
  },
  {
   "cell_type": "code",
   "execution_count": 11,
   "metadata": {},
   "outputs": [
    {
     "data": {
      "image/png": "[encoded data removed]",
      "text/plain": [
       "<Figure size 432x288 with 1 Axes>"
      ]
     },
     "metadata": {},
     "output_type": "display_data"
    }
   ],
   "source": [
    "plt.plot(X3, y_pred3, label='Regression Line')\n",
    "plt.scatter(X3,Y, label='Scatter Plot')\n",
    "plt.xlabel('DD')\n",
    "plt.ylabel('Heating Load')\n",
    "plt.legend()\n",
    "plt.show()"
   ]
  },
  {
   "cell_type": "code",
   "execution_count": 12,
   "metadata": {},
   "outputs": [
    {
     "data": {
      "image/png": "[encoded data removed]",
      "text/plain": [
       "<Figure size 432x288 with 1 Axes>"
      ]
     },
     "metadata": {},
     "output_type": "display_data"
    }
   ],
   "source": [
    "plt.plot(X4, y_pred4, label='Regression Line')\n",
    "plt.scatter(X4,Y, label='Scatter Plot')\n",
    "plt.xlabel('Wind')\n",
    "plt.ylabel('Heating Load')\n",
    "plt.legend()\n",
    "plt.show()"
   ]
  },
  {
   "cell_type": "code",
   "execution_count": 13,
   "metadata": {},
   "outputs": [
    {
     "data": {
      "image/png": "[encoded data removed]",
      "text/plain": [
       "<Figure size 432x288 with 1 Axes>"
      ]
     },
     "metadata": {},
     "output_type": "display_data"
    }
   ],
   "source": [
    "plt.plot(X5, y_pred5, label='Regression Line')\n",
    "plt.scatter(X5,Y, label='Scatter Plot')\n",
    "plt.xlabel('Humidity')\n",
    "plt.ylabel('Heating Load')\n",
    "plt.legend()\n",
    "plt.show()"
   ]
  },
  {
   "cell_type": "code",
   "execution_count": 14,
   "metadata": {},
   "outputs": [
    {
     "data": {
      "image/png": "[encoded data removed]",
      "text/plain": [
       "<Figure size 432x288 with 1 Axes>"
      ]
     },
     "metadata": {},
     "output_type": "display_data"
    }
   ],
   "source": [
    "plt.plot(X6, y_pred6, label='Regression Line')\n",
    "plt.scatter(X6,Y, label='Scatter Plot')\n",
    "plt.xlabel('Radiation')\n",
    "plt.ylabel('Heating Load')\n",
    "plt.legend()\n",
    "plt.show()"
   ]
  },
  {
   "cell_type": "code",
   "execution_count": 15,
   "metadata": {},
   "outputs": [],
   "source": [
    "import plotly.plotly as ply\n",
    "import plotly.graph_objs as go\n",
    "#plotly.tools.set_credentials_file(username='sneha51189', api_key='aiCNuP965DxwzyROi9St')"
   ]
  },
  {
   "cell_type": "code",
   "execution_count": 16,
   "metadata": {},
   "outputs": [
    {
     "data": {
      "text/html": [
       "<iframe id=\"igraph\" scrolling=\"no\" style=\"border:none;\" seamless=\"seamless\" src=\"https://plot.ly/~sneha51189/30.embed\" height=\"525px\" width=\"100%\"></iframe>"
      ],
      "text/plain": [
       "<plotly.tools.PlotlyDisplay object>"
      ]
     },
     "execution_count": 16,
     "metadata": {},
     "output_type": "execute_result"
    }
   ],
   "source": [
    "# Create traces\n",
    "trace1 = go.Scatter(\n",
    "    x = X1,\n",
    "    y = Y,\n",
    "    mode = 'markers'\n",
    ")\n",
    "trace2 = go.Scatter(\n",
    "    x = X1, \n",
    "    y = y_pred1,\n",
    "    mode='lines',\n",
    "    line=dict(color='black', width=3)\n",
    ")\n",
    "\n",
    "data = [trace1, trace2]\n",
    "layout=go.Layout(title=\"Linear Regression\", xaxis={'title':'HDD'}, yaxis={'title':'Heating Load'})\n",
    "figure=go.Figure(data=data,layout=layout)\n",
    "# Plot and embed in ipython notebook!\n",
    "ply.iplot(figure, filename='basic-scatter')\n",
    "\n",
    "# or plot with: plot_url = py.plot(data, filename='basic-line')"
   ]
  },
  {
   "cell_type": "code",
   "execution_count": 17,
   "metadata": {},
   "outputs": [
    {
     "data": {
      "text/html": [
       "<iframe id=\"igraph\" scrolling=\"no\" style=\"border:none;\" seamless=\"seamless\" src=\"https://plot.ly/~sneha51189/30.embed\" height=\"525px\" width=\"100%\"></iframe>"
      ],
      "text/plain": [
       "<plotly.tools.PlotlyDisplay object>"
      ]
     },
     "execution_count": 17,
     "metadata": {},
     "output_type": "execute_result"
    }
   ],
   "source": [
    "# Create traces\n",
    "trace1 = go.Scatter(\n",
    "    x = X2,\n",
    "    y = Y,\n",
    "    mode = 'markers'\n",
    ")\n",
    "trace2 = go.Scatter(\n",
    "    x = X2, \n",
    "    y = y_pred2,\n",
    "    mode='lines',\n",
    "    line=dict(color='black', width=3)\n",
    ")\n",
    "\n",
    "data = [trace1, trace2]\n",
    "layout=go.Layout(title=\"Linear Regression\", xaxis={'title':'CDD'}, yaxis={'title':'Heating Load'})\n",
    "figure=go.Figure(data=data,layout=layout)\n",
    "# Plot and embed in ipython notebook!\n",
    "ply.iplot(figure, filename='basic-scatter')\n"
   ]
  },
  {
   "cell_type": "code",
   "execution_count": 18,
   "metadata": {},
   "outputs": [
    {
     "data": {
      "text/html": [
       "<iframe id=\"igraph\" scrolling=\"no\" style=\"border:none;\" seamless=\"seamless\" src=\"https://plot.ly/~sneha51189/30.embed\" height=\"525px\" width=\"100%\"></iframe>"
      ],
      "text/plain": [
       "<plotly.tools.PlotlyDisplay object>"
      ]
     },
     "execution_count": 18,
     "metadata": {},
     "output_type": "execute_result"
    }
   ],
   "source": [
    "# Create traces\n",
    "trace1 = go.Scatter(\n",
    "    x = X3,\n",
    "    y = Y,\n",
    "    mode = 'markers'\n",
    ")\n",
    "trace2 = go.Scatter(\n",
    "    x = X3, \n",
    "    y = y_pred3,\n",
    "    mode='lines',\n",
    "    line=dict(color='black', width=3)\n",
    ")\n",
    "\n",
    "data = [trace1, trace2]\n",
    "layout=go.Layout(title=\"Linear Regression\", xaxis={'title':'DD'}, yaxis={'title':'Heating Load'})\n",
    "figure=go.Figure(data=data,layout=layout)\n",
    "# Plot and embed in ipython notebook!\n",
    "ply.iplot(figure, filename='basic-scatter')\n"
   ]
  },
  {
   "cell_type": "code",
   "execution_count": 19,
   "metadata": {},
   "outputs": [
    {
     "data": {
      "text/html": [
       "<iframe id=\"igraph\" scrolling=\"no\" style=\"border:none;\" seamless=\"seamless\" src=\"https://plot.ly/~sneha51189/30.embed\" height=\"525px\" width=\"100%\"></iframe>"
      ],
      "text/plain": [
       "<plotly.tools.PlotlyDisplay object>"
      ]
     },
     "execution_count": 19,
     "metadata": {},
     "output_type": "execute_result"
    }
   ],
   "source": [
    "# Create traces\n",
    "trace1 = go.Scatter(\n",
    "    x = X4,\n",
    "    y = Y,\n",
    "    mode = 'markers'\n",
    ")\n",
    "trace2 = go.Scatter(\n",
    "    x = X4, \n",
    "    y = y_pred4,\n",
    "    mode='lines',\n",
    "    line=dict(color='black', width=3)\n",
    ")\n",
    "\n",
    "data = [trace1, trace2]\n",
    "layout=go.Layout(title=\"Linear Regression\", xaxis={'title':'Wind'}, yaxis={'title':'Heating Load'})\n",
    "figure=go.Figure(data=data,layout=layout)\n",
    "# Plot and embed in ipython notebook!\n",
    "ply.iplot(figure, filename='basic-scatter')\n"
   ]
  },
  {
   "cell_type": "code",
   "execution_count": 20,
   "metadata": {},
   "outputs": [
    {
     "data": {
      "text/html": [
       "<iframe id=\"igraph\" scrolling=\"no\" style=\"border:none;\" seamless=\"seamless\" src=\"https://plot.ly/~sneha51189/30.embed\" height=\"525px\" width=\"100%\"></iframe>"
      ],
      "text/plain": [
       "<plotly.tools.PlotlyDisplay object>"
      ]
     },
     "execution_count": 20,
     "metadata": {},
     "output_type": "execute_result"
    }
   ],
   "source": [
    "# Create traces\n",
    "trace1 = go.Scatter(\n",
    "    x = X5,\n",
    "    y = Y,\n",
    "    mode = 'markers'\n",
    ")\n",
    "trace2 = go.Scatter(\n",
    "    x = X5, \n",
    "    y = y_pred5,\n",
    "    mode='lines',\n",
    "    line=dict(color='black', width=3)\n",
    ")\n",
    "\n",
    "data = [trace1, trace2]\n",
    "layout=go.Layout(title=\"Linear Regression\", xaxis={'title':'Humidity'}, yaxis={'title':'Heating Load'})\n",
    "figure=go.Figure(data=data,layout=layout)\n",
    "# Plot and embed in ipython notebook!\n",
    "ply.iplot(figure, filename='basic-scatter')\n"
   ]
  },
  {
   "cell_type": "code",
   "execution_count": 21,
   "metadata": {},
   "outputs": [
    {
     "data": {
      "text/html": [
       "<iframe id=\"igraph\" scrolling=\"no\" style=\"border:none;\" seamless=\"seamless\" src=\"https://plot.ly/~sneha51189/30.embed\" height=\"525px\" width=\"100%\"></iframe>"
      ],
      "text/plain": [
       "<plotly.tools.PlotlyDisplay object>"
      ]
     },
     "execution_count": 21,
     "metadata": {},
     "output_type": "execute_result"
    }
   ],
   "source": [
    "# Create traces\n",
    "trace1 = go.Scatter(\n",
    "    x = X6,\n",
    "    y = Y,\n",
    "    mode = 'markers'\n",
    ")\n",
    "trace2 = go.Scatter(\n",
    "    x = X6, \n",
    "    y = y_pred6,\n",
    "    mode='lines',\n",
    "    line=dict(color='black', width=3)\n",
    ")\n",
    "\n",
    "data = [trace1, trace2]\n",
    "layout=go.Layout(title=\"Linear Regression\", xaxis={'title':'Radiation'}, yaxis={'title':'Heating Load'})\n",
    "figure=go.Figure(data=data,layout=layout)\n",
    "# Plot and embed in jupyter notebook!\n",
    "ply.iplot(figure, filename='basic-scatter')\n"
   ]
  },
  {
   "cell_type": "code",
   "execution_count": null,
   "metadata": {},
   "outputs": [],
   "source": []
  }
 ],
 "metadata": {
  "kernelspec": {
   "display_name": "Python 3",
   "language": "python",
   "name": "python3"
  },
  "language_info": {
   "codemirror_mode": {
    "name": "ipython",
    "version": 3
   },
   "file_extension": ".py",
   "mimetype": "text/x-python",
   "name": "python",
   "nbconvert_exporter": "python",
   "pygments_lexer": "ipython3",
   "version": "3.6.5"
  }
 },
 "nbformat": 4,
 "nbformat_minor": 2
}
